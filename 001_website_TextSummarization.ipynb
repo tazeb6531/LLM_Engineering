{
 "cells": [
  {
   "cell_type": "markdown",
   "id": "b2b1a9c0",
   "metadata": {},
   "source": [
    "\n",
    "### Web-Based Text Summarization Using GenAI \n",
    "\n",
    "In the era of information overload, extracting meaningful insights from extensive textual content is a critical need. \n",
    "This project focuses on developing a **web-based text summarization tool**, leveraging Natural Language Processing (NLP) techniques \n",
    "to generate concise summaries from long-form content. The tool is designed to provide accurate and context-aware summarization \n",
    "to aid users in consuming key information efficiently."
   ]
  },
  {
   "cell_type": "code",
   "execution_count": 1,
   "id": "7b87cadb-d513-4303-baee-a37b6f938e4d",
   "metadata": {},
   "outputs": [],
   "source": [
    "import os\n",
    "import openai\n",
    "import ollama\n",
    "import requests\n",
    "from openai import OpenAI\n",
    "from bs4 import BeautifulSoup\n",
    "from dotenv import load_dotenv\n",
    "from langchain_openai import ChatOpenAI\n",
    "from IPython.display import Markdown, display\n",
    "\n",
    "load_dotenv()\n",
    "os.environ['OPENAI_API_KEY'] = os.getenv(\"OPENAI_API_KEY\")"
   ]
  },
  {
   "cell_type": "code",
   "execution_count": 2,
   "id": "c5e793b2-6775-426a-a139-4848291d0463",
   "metadata": {},
   "outputs": [],
   "source": [
    "# A class to represent a Webpage\n",
    "# Some websites need you to use proper headers when fetching them:\n",
    "headers = { \"User-Agent\": \"Mozilla/5.0 (Windows NT 10.0; Win64; x64) AppleWebKit/537.36 (KHTML, like Gecko) Chrome/117.0.0.0 Safari/537.36\"}\n",
    "class Website:\n",
    "    def __init__(self, url):\n",
    "        \"\"\"\n",
    "        Create this Website object from the given url using the BeautifulSoup library\n",
    "        \"\"\"\n",
    "        self.url = url\n",
    "        response = requests.get(url, headers = headers)\n",
    "        soup = BeautifulSoup(response.content, 'html.parser')\n",
    "        self.title = soup.title.string if soup.title else \"No title found\"\n",
    "        for irrelevant in soup.body([\"script\", \"style\", \"img\", \"input\"]):\n",
    "            irrelevant.decompose()\n",
    "        self.text = soup.body.get_text(separator=\"\\n\", strip=True)"
   ]
  },
  {
   "cell_type": "code",
   "execution_count": 3,
   "id": "2ef960cf-6dc2-4cda-afb3-b38be12f4c97",
   "metadata": {},
   "outputs": [
    {
     "name": "stdout",
     "output_type": "stream",
     "text": [
      "Welcome\n"
     ]
    }
   ],
   "source": [
    "# Let's try one out. Change the website and add print statements to follow along.\n",
    "\n",
    "ed = Website(\"https://mydatascienceenthusiast.com\")\n",
    "print(ed.title)\n",
    "#print(ed.text)"
   ]
  },
  {
   "cell_type": "code",
   "execution_count": 4,
   "id": "abdb8417-c5dc-44bc-9bee-2e059d162699",
   "metadata": {},
   "outputs": [],
   "source": [
    "# Define our system prompt \n",
    "system_prompt = \"You are an assistant that analyzes the contents of a website \\\n",
    "                and provides a short summary, ignoring text that might be navigation related. \\\n",
    "                Respond in markdown.\"\n",
    "\n",
    "# A function that writes a User Prompt that asks for summaries of websites:\n",
    "def user_prompt_for(website):\n",
    "    user_prompt = f\"You are looking at a website titled {website.title}\\n\"\n",
    "    user_prompt += \"The contents of this website is as follows; please provide a short summary of this website in markdown.\\n\"\n",
    "    user_prompt += \"If it includes news or announcements, then summarize these too.\\n\\n\"\n",
    "    user_prompt += website.text\n",
    "    return user_prompt"
   ]
  },
  {
   "cell_type": "code",
   "execution_count": 5,
   "id": "26448ec4-5c00-4204-baec-7df91d11ff2e",
   "metadata": {},
   "outputs": [],
   "source": [
    "#print(user_prompt_for(ed))"
   ]
  },
  {
   "cell_type": "code",
   "execution_count": 6,
   "id": "0134dfa4-8299-48b5-b444-f2a8c3403c88",
   "metadata": {},
   "outputs": [
    {
     "name": "stdout",
     "output_type": "stream",
     "text": [
      "[{'role': 'system', 'content': 'You are an assistant that analyzes the contents of a website                 and provides a short summary, ignoring text that might be navigation related.                 Respond in markdown.'}, {'role': 'user', 'content': 'You are looking at a website titled Welcome\\nThe contents of this website is as follows; please provide a short summary of this website in markdown.\\nIf it includes news or announcements, then summarize these too.\\n\\nSkip to content\\nNo results\\nAbout Us\\nBlog\\nContact\\nHome\\nWelcome\\nHome\\nAbout Us\\nBlog\\nContact\\nSearch\\nWelcome\\nMenu\\nTazeb Abera\\nHey, I am Tazeb\\nWelcome to my Profile, I am a GenAI Data Scientist, I Love to share my Knowledge and Experience\\nLinkedin\\nFacebook\\nTwitter\\nYoutube\\nContact me\\nAbout Me\\nOur strong determination and passion towards web development have inspired us to offer premium quality web development services to the global clients, including 1200+ satisfied customers.\\nDownload cv\\nGenAI\\nPython\\nMachine Learning\\nAzure, AWS, SNOWFlake\\nSQL, MYSQL\\nProjects completed\\n0\\nCup of coffee\\n0\\nSatisfied clients\\n0\\nNominees winner\\n0\\nServices\\nExperience\\nRecent works\\nPHD Data Science\\n2023 - Present\\nNorth Central University (NCU) on Data Science\\nMSC in Data Science\\n2018-2020\\nSouthern Methodist University\\nMSC in Sustainable Energy Engineering\\n2012-2014\\nBSC Computer Science\\n2004-2007\\nSenior Data Scientist\\n2021- Present\\nData Scientist\\n2018 - 2021\\nBusiness Analyst\\n2015- 2018\\nPower Engineer\\n2014-2015\\nAI, Machine Learning, and Deep Learning\\nAs a senior expert, I specialize in leveraging AI, ML, and Deep Learning to design intelligent systems that drive automation, predictive insights, and innovation. With expertise in advanced algorithms, neural networks, and NLP, I develop scalable solutions for complex business challenges, enhancing efficiency and decision-making.\\nContact Now\\nData Engineering and Cloud Technologies\\nI excel in architecting robust data pipelines and workflows, integrating diverse data sources with cloud platforms like Azure, AWS, and Snowflake. My expertise includes designing scalable, cost-efficient systems that enable real-time analytics and ensure data availability, supporting business agility and growth.\\nContact Now\\nDatabases and Advanced Data Management\\nWith deep expertise in databases, I design and optimize scalable solutions using SQL, Snowflake, and other modern platforms. I focus on efficient data storage, processing, and retrieval, ensuring secure and compliant data management that supports enterprise-grade analytics and decision-making.\\nContact Now\\nPricing Plans\\nFor Hours\\nA Simple option but powerful to manage your business.\\nMaximum 8 hours a day.\\nWork until done.\\nEmail support\\nClick here\\nFor A Project\\nUnlimited product including apps integrations and more features\\nWork until done.\\nMaximum 8 hours a day.\\nAfter Project support\\nClick here\\nFor Month\\nA wise option for large companies and individuals\\nMaximum 8 hours a day.\\nWork until done.\\n24/7 support\\nClick here\\nClients & Reviews\\nLatest Posts\\nGet In Touch\\nCopyright © 2025 - WordPress Theme by\\nCreativeThemes'}]\n"
     ]
    }
   ],
   "source": [
    "# See how this function creates exactly the format above\n",
    "def messages_for(website):\n",
    "    return [\n",
    "        {\"role\": \"system\", \"content\": system_prompt},\n",
    "        {\"role\": \"user\", \"content\": user_prompt_for(website)}\n",
    "    ]\n",
    "\n",
    "# Try this out, and then try for a few more websites\n",
    "print(messages_for(ed))"
   ]
  },
  {
   "cell_type": "markdown",
   "id": "48424feb",
   "metadata": {},
   "source": [
    "### OpenAI web Text Summarization"
   ]
  },
  {
   "cell_type": "code",
   "execution_count": 7,
   "id": "905b9919-aba7-45b5-ae65-81b3d1d78e34",
   "metadata": {},
   "outputs": [],
   "source": [
    "client = openai.OpenAI() \n",
    "def summarize(url):\n",
    "    website = Website(url)\n",
    "    response = openai.chat.completions.create(\n",
    "        model = \"gpt-4o-mini\",\n",
    "        messages = messages_for(website) )\n",
    "    return response.choices[0].message.content"
   ]
  },
  {
   "cell_type": "code",
   "execution_count": 8,
   "id": "05e38d41-dfa4-4b20-9c96-c46ea75d9fb5",
   "metadata": {},
   "outputs": [],
   "source": [
    "aa = summarize(\"https://mydatascienceenthusiast.com/blog/\")"
   ]
  },
  {
   "cell_type": "code",
   "execution_count": 9,
   "id": "87cc5b14",
   "metadata": {},
   "outputs": [
    {
     "name": "stdout",
     "output_type": "stream",
     "text": [
      "# Summary of Blog – Welcome\n",
      "\n",
      "The blog post titled \"DeepSeek vs. OpenAI – New Race in AI,\" published on January 29, 2024, discusses the author's journey exploring AI technologies, specifically comparing OpenAI's models with DeepSeek, an emerging open-source LLM from China.\n",
      "\n",
      "## Key Points:\n",
      "- The author highlights their experience using OpenAI's frontier models for various tasks and their curiosity about DeepSeek after its recent launch.\n",
      "- **DeepSeek** raises concerns regarding **data security**, requiring users to log in and share personal information, which parallels worries about how user data might be handled, especially in light of the recent TikTok ban in the US.\n",
      "- **UI/UX Issues**: The author encountered significant navigation problems on DeepSeek’s website, questioning its stability and user-friendliness compared to OpenAI.\n",
      "- **Political Sensitivity**: DeepSeek avoids addressing sensitive political topics, raising doubts about the trustworthiness of its outputs.\n",
      "- The author concludes that while DeepSeek shows promise, they prefer to continue using OpenAI for now, with plans to further explore DeepSeek's capabilities through practical applications.\n",
      "\n",
      "Overall, the blog reflects a cautious yet curious exploration of emerging AI technologies and the importance of user security and experience in technology adoption.\n"
     ]
    }
   ],
   "source": [
    "print(aa)"
   ]
  },
  {
   "cell_type": "code",
   "execution_count": 10,
   "id": "45d83403-a24c-44b5-84ac-961449b4008f",
   "metadata": {},
   "outputs": [
    {
     "data": {
      "text/plain": [
       "\"# CNN News Summary\\n\\nCNN is a leading source for breaking news, covering a wide range of topics including US and world news, politics, business, health, entertainment, sports, and science. The site features live updates and in-depth analyses on critical issues and events currently shaping the world.\\n\\n## Key Highlights:\\n- **Midair Collision Incident:** The FAA has restricted helicopter operations near Reagan National Airport following a deadly collision involving an American Airlines jet and an Army helicopter. This incident has led to criticism of former President Trump's handling of aviation safety.\\n- **Ukraine-Russia War:** Reports indicate that North Korean troops have pulled back from frontline positions after suffering significant losses; this development continues to highlight the ongoing conflict dynamics.\\n- **Israeli-Palestinian Conflict:** A father of one of the youngest hostages in Gaza is expected to be released, furthering discussions about the ongoing humanitarian issues in the region.\\n- **Health Updates:** Respiratory illnesses are reportedly at a high level this winter, with expert recommendations to mitigate the impacts of this season's viral infections.\\n- **Cultural Events:** Celebrities such as Lady Gaga and Billie Eilish performed at benefit concerts aimed at relief efforts for wildfires in Los Angeles.\\n\\nThe website also provides various multimedia content including videos, podcasts, and articles that delve deeper into current affairs and trending stories across multiple categories.\""
      ]
     },
     "execution_count": 10,
     "metadata": {},
     "output_type": "execute_result"
    }
   ],
   "source": [
    "summarize(\"https://cnn.com\")"
   ]
  },
  {
   "cell_type": "code",
   "execution_count": 11,
   "id": "75e9fd40-b354-4341-991e-863ef2e59db7",
   "metadata": {},
   "outputs": [
    {
     "data": {
      "text/plain": [
       "\"# Website Summary\\n\\n**Title:** Welcome\\n\\n## Overview\\nThe website serves as a personal profile for Tazeb Abera, a GenAI Data Scientist dedicated to sharing knowledge and experience in the fields of AI, Machine Learning, and web development. Tazeb emphasizes a strong passion for premium quality web development services, having served over 1200 satisfied clients.\\n\\n## Education & Experience\\n- **PhD in Data Science** (2023 - Present) at North Central University\\n- **MSc in Data Science** (2018-2020) from Southern Methodist University\\n- **MSc in Sustainable Energy Engineering** (2012-2014)\\n- **BSc in Computer Science** (2004-2007)\\n\\nTazeb has held various roles in the tech field, including Senior Data Scientist, Data Scientist, Business Analyst, and Power Engineer.\\n\\n## Services Offered\\nTazeb specializes in several areas:\\n- **AI, Machine Learning, and Deep Learning:** Developing intelligent systems for automation, predictive insights, and innovation.\\n- **Data Engineering and Cloud Technologies:** Architecting data pipelines and workflows integrated with cloud platforms (Azure, AWS, Snowflake).\\n- **Databases and Advanced Data Management:** Designing and optimizing scalable database solutions for efficient data handling.\\n\\n## Pricing Plans\\n- **For Hours:** Flexible hourly support with email assistance.\\n- **For A Project:** Comprehensive project management with after-project support.\\n- **For Month:** Ongoing support ideal for larger entities, available 24/7.\\n\\n## Additional Features\\nThe website includes links to Tazeb's social media profiles for further engagement and updates. \\n\\nThere are no specific news or announcements highlighted on the website.\""
      ]
     },
     "execution_count": 11,
     "metadata": {},
     "output_type": "execute_result"
    }
   ],
   "source": [
    "summarize(\"https://mydatascienceenthusiast.com/\")"
   ]
  },
  {
   "cell_type": "markdown",
   "id": "126ffe3d",
   "metadata": {},
   "source": [
    "### Ollama Web Text Summarization"
   ]
  },
  {
   "cell_type": "code",
   "execution_count": 12,
   "id": "cfbac772",
   "metadata": {},
   "outputs": [],
   "source": [
    "def summarize(url):\n",
    "    website = Website(url)\n",
    "    response = openai.chat.completions.create(\n",
    "        model = \"gpt-4o-mini\",\n",
    "        messages = messages_for(website) )\n",
    "    return response.choices[0].message.content"
   ]
  },
  {
   "cell_type": "code",
   "execution_count": 13,
   "id": "38d6acb9",
   "metadata": {},
   "outputs": [],
   "source": [
    "# Constants\n",
    "OLLAMA_API = \"http://localhost:11434/api/chat\"\n",
    "HEADERS = {\"Content-Type\": \"application/json\"}\n",
    "MODEL = \"llama3.2\""
   ]
  },
  {
   "cell_type": "code",
   "execution_count": 14,
   "id": "73ff94f2",
   "metadata": {},
   "outputs": [
    {
     "data": {
      "text/plain": [
       "'Here\\'s a summary of Ed Sheeran\\'s biography:\\n\\n**Early Life**\\n\\n* Born on February 17, 1991, in Hebden Bridge, West Yorkshire, England\\n* Raised in Framlingham, Suffolk, with influences from his Irish parents\\n\\n**Music Career**\\n\\n* Began busking in London and released his debut EP, \"Loose Change,\" in 2008\\n* Signed with Atlantic Records in 2010 and released his debut album, \"+,\" in 2011\\n* Became a global pop sensation with hits like \"The A Team\" and \"Lego House\"\\n\\n**Personal Life**\\n\\n* Known for his charity work, including supporting the Elton John AIDS Foundation\\n* Has been involved in high-profile relationships with athletes Ellie Goulding and Cherry Seaborn (whom he married in 2018)\\n* Has a daughter with Cherry Seaborn\\n\\n**Awards and Achievements**\\n\\n* Won numerous awards, including four Grammy Awards and two Brit Awards\\n* Nominated for several MTV Europe Music Awards and Billboard Music Awards\\n* Became the best-selling solo artist of 2020 with his album \"+\"\\n\\n**Publications**\\n\\n* Autobiography \"The A Team: Adventures on Arrival\" was released in 2019'"
      ]
     },
     "metadata": {},
     "output_type": "display_data"
    }
   ],
   "source": [
    "# Option I  for website summerization with Ollama  / open source no payment required\n",
    "ollama_via_openai = OpenAI(base_url='http://localhost:11434/v1', api_key='ollama')\n",
    "def summarize_ollama(url):\n",
    "    website = Website(url)\n",
    "    response = ollama_via_openai.chat.completions.create(\n",
    "        model = \"llama3.2\",\n",
    "        messages = messages_for(website) )\n",
    "    return response.choices[0].message.content\n",
    "\n",
    "def display_summary(url):\n",
    "    summary = summarize_ollama(url)\n",
    "    display(summary)\n",
    "\n",
    "display_summary(\"https://en.wikipedia.org/wiki/Ed_Sheeran\")"
   ]
  },
  {
   "cell_type": "code",
   "execution_count": 15,
   "id": "cb796f64",
   "metadata": {},
   "outputs": [],
   "source": [
    "# Option II for website summerization with Ollama  / open source no payment required\n",
    "MODEL = \"llama3.2\"\n",
    "def summarize(url):\n",
    "    website = Website(url)\n",
    "    messages = messages_for(website)\n",
    "    response = ollama.chat(model = MODEL, messages = messages)\n",
    "    return response['message']['content']"
   ]
  },
  {
   "cell_type": "code",
   "execution_count": 16,
   "id": "bd0bd1ca",
   "metadata": {},
   "outputs": [
    {
     "data": {
      "text/plain": [
       "'Ed Sheeran is a British singer-songwriter, musician, and record producer. He was born on February 17, 1991, in Hebden Bridge, West Yorkshire, England.\\n\\nSheeran rose to fame in the late 2000s with his unique blend of folk, pop, and hip-hop music. He has released several successful albums, including \"+\", \"x\", \"÷\", and \"No.6 Collaborations Project\". Some of his most popular songs include \"Shape of You\", \"Thinking Out Loud\", \"Photograph\", and \"Perfect\".\\n\\nSheeran has won numerous awards for his music, including four Grammy Awards, four Brit Awards, and an Ivor Novello Award. He has also broken multiple records in the music industry, including becoming the first artist to have seven songs simultaneously on the US Billboard Hot 100 chart.\\n\\nIn addition to his music career, Sheeran is known for his philanthropic efforts, particularly in the area of education and children\\'s charities. He has been involved in several high-profile charity projects, including the \"Songs for Love\" campaign, which aims to support mental health initiatives around the world.\\n\\nSheeran has also made headlines for his personal life, including his marriage to Cherry Seaborn and his adoption of a daughter, Lyra Antarctica Sheeran. He is known for his down-to-earth personality and his ability to connect with fans on social media.\\n\\nSome of Ed Sheeran\\'s most notable achievements include:\\n\\n* Winning four Grammy Awards\\n* Being named one of the most influential people in the world by TIME magazine\\n* Breaking multiple records in the music industry, including becoming the first artist to have seven songs simultaneously on the US Billboard Hot 100 chart\\n* Being named a Brit Award winner for Best British Male Solo Artist\\n* Releasing several successful albums, including \"+\", \"x\", \"÷\", and \"No.6 Collaborations Project\"\\n* Supporting various charitable causes, including education and children\\'s charities\\n\\nHowever, Ed Sheeran has also faced criticism and controversy over the years, including:\\n\\n* Accusations of cultural appropriation for incorporating African rhythms into his music\\n* Criticism for his use of social media to promote himself and his music\\n* Controversy surrounding his marriage and adoption of a child\\n* Accusations of hypocrisy for speaking out against issues while also profiting from them\\n\\nDespite the controversy, Ed Sheeran remains one of the most successful and influential musicians in the world, known for his unique blend of folk, pop, and hip-hop music.'"
      ]
     },
     "execution_count": 16,
     "metadata": {},
     "output_type": "execute_result"
    }
   ],
   "source": [
    "summarize(\"https://en.wikipedia.org/wiki/Ed_Sheeran\")"
   ]
  },
  {
   "cell_type": "code",
   "execution_count": null,
   "id": "107a56c8",
   "metadata": {},
   "outputs": [],
   "source": []
  },
  {
   "cell_type": "code",
   "execution_count": null,
   "id": "64dcaaa6",
   "metadata": {},
   "outputs": [],
   "source": []
  }
 ],
 "metadata": {
  "kernelspec": {
   "display_name": "genai",
   "language": "python",
   "name": "python3"
  },
  "language_info": {
   "codemirror_mode": {
    "name": "ipython",
    "version": 3
   },
   "file_extension": ".py",
   "mimetype": "text/x-python",
   "name": "python",
   "nbconvert_exporter": "python",
   "pygments_lexer": "ipython3",
   "version": "3.11.9"
  }
 },
 "nbformat": 4,
 "nbformat_minor": 5
}
