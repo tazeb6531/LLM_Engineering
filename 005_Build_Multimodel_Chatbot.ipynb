{
 "cells": [
  {
   "cell_type": "markdown",
   "metadata": {
    "vscode": {
     "languageId": "plaintext"
    }
   },
   "source": [
    "## Setting up Keys\n",
    "\n",
    "For OpenAI, visit https://openai.com/api/  \n",
    "For Anthropic, visit https://console.anthropic.com/  \n",
    "For Google, visit https://ai.google.dev/gemini-api  \n",
    "\n",
    "When you get your API keys, you need to set them as environment variables by adding them to your `.env` file.\n",
    "\n",
    "```\n",
    "OPENAI_API_KEY=xxxx\n",
    "ANTHROPIC_API_KEY=xxxx\n",
    "GOOGLE_API_KEY=xxxx\n",
    "```"
   ]
  },
  {
   "cell_type": "code",
   "execution_count": 1,
   "metadata": {},
   "outputs": [
    {
     "name": "stderr",
     "output_type": "stream",
     "text": [
      "c:\\Users\\tazeb\\OneDrive\\AtomicHabit\\LLM Engineering\\venv\\Lib\\site-packages\\tqdm\\auto.py:21: TqdmWarning: IProgress not found. Please update jupyter and ipywidgets. See https://ipywidgets.readthedocs.io/en/stable/user_install.html\n",
      "  from .autonotebook import tqdm as notebook_tqdm\n"
     ]
    }
   ],
   "source": [
    "# imports\n",
    "import os\n",
    "import openai\n",
    "import requests\n",
    "from dotenv import load_dotenv\n",
    "import google.generativeai as genai\n",
    "from IPython.display import Markdown, display, update_display"
   ]
  },
  {
   "cell_type": "code",
   "execution_count": 2,
   "metadata": {},
   "outputs": [
    {
     "name": "stdout",
     "output_type": "stream",
     "text": [
      "OpenAI API Key exists and begins sk-proj-\n",
      "Google API Key exists and begins AIzaSyCx\n"
     ]
    }
   ],
   "source": [
    "# Load environment variables in a file called .env\n",
    "# Print the key prefixes to help with any debugging\n",
    "load_dotenv()\n",
    "openai_api_key = os.getenv('OPENAI_API_KEY')\n",
    "google_api_key = os.getenv('GOOGLE_API_KEY')\n",
    "\n",
    "genai.configure(api_key=google_api_key)\n",
    "\n",
    "if openai_api_key:\n",
    "    print(f\"OpenAI API Key exists and begins {openai_api_key[:8]}\")\n",
    "else:\n",
    "    print(\"OpenAI API Key not set\")\n",
    "if google_api_key:\n",
    "    print(f\"Google API Key exists and begins {google_api_key[:8]}\")\n",
    "else:\n",
    "    print(\"Google API Key not set\")"
   ]
  },
  {
   "cell_type": "markdown",
   "metadata": {},
   "source": [
    "## Asking LLMs to tell a Information/story/Jokes ---etc\n",
    "\n",
    "It turns out that LLMs don't do a great job of telling jokes! Let's compare a few models.\n",
    "Later we will be putting LLMs to better use!\n",
    "\n",
    "### What information is included in the API\n",
    "\n",
    "Typically we'll pass to the API:\n",
    "- The name of the model that should be used\n",
    "- A system message that gives overall context for the role the LLM is playing\n",
    "- A user message that provides the actual prompt\n",
    "\n",
    "There are other parameters that can be used, including **temperature** which is typically between 0 and 1; higher for more random output; lower for more focused and deterministic."
   ]
  },
  {
   "cell_type": "code",
   "execution_count": 3,
   "metadata": {},
   "outputs": [],
   "source": [
    "system_message = \"You are an assistant that is great at telling storeis/informations and or ideas\"\n",
    "user_prompt = \"tell me a vary short information about Lalibella at Ethiopian Orthodox church and generate/find the link of its building in Addis Ababa \"\n",
    "\n",
    "prompts = [\n",
    "    {\"role\": \"system\", \"content\": system_message},\n",
    "    {\"role\": \"user\", \"content\": user_prompt}\n",
    "  ]"
   ]
  },
  {
   "cell_type": "markdown",
   "metadata": {},
   "source": [
    "#### A) GPT model Response"
   ]
  },
  {
   "cell_type": "code",
   "execution_count": 4,
   "metadata": {},
   "outputs": [
    {
     "name": "stdout",
     "output_type": "stream",
     "text": [
      "Lalibela is a town in Ethiopia known for its rock-hewn churches, particularly the UNESCO World Heritage site of Lalibela Ethiopian Orthodox Church. These churches were carved entirely out of solid rock in the 12th century. The Lalibela Ethiopian Orthodox Church is a significant pilgrimage site for Christians.\n",
      "\n",
      "To find more information about Lalibela Ethiopian Orthodox Church, you can visit the following link: [Lalibela Ethiopian Orthodox Church in Addis Ababa](https://www.google.com/maps/search/Lalibela+Ethiopian+Orthodox+Church+Addis+Ababa)\n"
     ]
    }
   ],
   "source": [
    "# 1.  GPT-3.5-Turbo\n",
    "completion = openai.ChatCompletion.create(model='gpt-3.5-turbo', messages=prompts)\n",
    "print(completion.choices[0].message.content)"
   ]
  },
  {
   "cell_type": "code",
   "execution_count": 5,
   "metadata": {},
   "outputs": [
    {
     "name": "stdout",
     "output_type": "stream",
     "text": [
      "Lalibela is a town in Ethiopia renowned for its rock-hewn churches, which were carved out of solid rock in the 12th century. It is often referred to as \"the New Jerusalem\" due to its significance in Ethiopian Orthodox Christianity. The churches are a UNESCO World Heritage Site and are considered a pilgrimage site for many Christians.\n",
      "\n",
      "As for the link to its building in Addis Ababa, it's important to clarify that Lalibela is a distinct town located about 645 kilometers north of Addis Ababa, rather than a building within the capital. However, if you're looking for information about Ethiopian Orthodox churches in Addis Ababa, one notable site is the Holy Trinity Cathedral, which serves as the national church of Ethiopia.\n",
      "\n",
      "You can find more information about Lalibela and its churches here: [UNESCO World Heritage - Lalibela](https://whc.unesco.org/en/list/18)\n"
     ]
    }
   ],
   "source": [
    "# 2. GPT-4o-mini\n",
    "# Temperature setting controls creativity\n",
    "completion = openai.ChatCompletion.create(model='gpt-4o-mini', \n",
    "                                          messages=prompts, \n",
    "                                          temperature=0.7)\n",
    "print(completion.choices[0].message.content)"
   ]
  },
  {
   "cell_type": "code",
   "execution_count": 6,
   "metadata": {},
   "outputs": [
    {
     "name": "stdout",
     "output_type": "stream",
     "text": [
      "Lalibela is a town in northern Ethiopia renowned for its rock-hewn churches, which are considered one of the greatest architectural achievements of the Ethiopian Orthodox Church. These churches, carved directly into the rock in the 12th century, are a significant pilgrimage site for Ethiopian Christians and are recognized as a UNESCO World Heritage Site. The most famous of these is the Church of St. George, which is shaped like a cross and carved from a single rock.\n",
      "\n",
      "Regarding the Ethiopian Orthodox Church in Addis Ababa, one of the most prominent churches is the Holy Trinity Cathedral (Kidist Selassie), which serves as the highest-ranking Ethiopian Orthodox Tewahedo cathedral in Addis Ababa. Unfortunately, I can't generate or provide direct links, but you can search for \"Holy Trinity Cathedral Addis Ababa\" on a map service or search engine for more details and directions.\n"
     ]
    }
   ],
   "source": [
    "# 3. GPT-4o\n",
    "completion = openai.ChatCompletion.create(model='gpt-4o', \n",
    "                                          messages=prompts, \n",
    "                                          temperature=0.4)\n",
    "print(completion.choices[0].message.content)"
   ]
  },
  {
   "cell_type": "code",
   "execution_count": 7,
   "metadata": {},
   "outputs": [
    {
     "name": "stdout",
     "output_type": "stream",
     "text": [
      "**About Lalibela and the Ethiopian Orthodox Church:**\n",
      "\n",
      "Lalibela is a town in northern Ethiopia renowned for its 12th-century rock-hewn churches. These UNESCO World Heritage sites are carved directly into monolithic blocks of red volcanic tuff and are considered among the most remarkable examples of medieval architecture. The churches are named after King Lalibela, who is said to have built them in the 12th century after a pilgrimage to Jerusalem. The churches are still used by the Ethiopian Orthodox Church for religious services and pilgrimages.\n",
      "\n",
      "**Link to the Building of the Ethiopian Orthodox Church in Addis Ababa:**\n",
      "\n",
      "* [Holy Trinity Cathedral](https://www.google.com/maps/place/Holy+Trinity+Cathedral/@9.0221975,38.7432376,15z/data=!4m5!3m4!1s0x1659d4c9440250d7:0x7d25a4b26e9950e!8m2!3d9.0221975!4d38.7432376)\n"
     ]
    }
   ],
   "source": [
    "# Convert OpenAI-style prompts to Gemini-compatible input\n",
    "gemini_prompt = \"\\n\".join([msg[\"content\"] for msg in prompts])\n",
    "# Initialize the Gemini model\n",
    "model = genai.GenerativeModel(\"gemini-pro\")\n",
    "# Generate a response\n",
    "response = model.generate_content(gemini_prompt)\n",
    "# Print the output\n",
    "if response.candidates and response.candidates[0].content.parts:\n",
    "    print(response.candidates[0].content.parts[0].text)\n",
    "else:\n",
    "    print(\"Response blocked due to content moderation.\")"
   ]
  },
  {
   "cell_type": "code",
   "execution_count": 8,
   "metadata": {},
   "outputs": [
    {
     "name": "stdout",
     "output_type": "stream",
     "text": [
      "**Lalibela at Ethiopian Orthodox Church**\n",
      "\n",
      "Lalibela is a town in northern Ethiopia famous for its monolithic churches carved out of a single rock. These churches were built in the 12th and 13th centuries by King Lalibela and are considered one of the most important pilgrimage sites for Ethiopian Orthodox Christians. The churches are adorned with intricate carvings and paintings and are a UNESCO World Heritage Site.\n",
      "\n",
      "**Link to the building in Addis Ababa:**\n",
      "\n",
      "https://www.google.com/maps/place/Lalibela+Church,+Addis+Abeba,+Ethiopia/@9.027126,38.7509052,17z/data=!3m1!4b1!4m5!3m4!1s0x164b76f9945f8db1:0x98c24391f3dba3d0!8m2!3d9.027126!4d38.7530939\n"
     ]
    }
   ],
   "source": [
    "# As an alternative way to use Gemini that bypasses Google's python API library,\n",
    "# Google has recently released new endpoints that means you can use Gemini via the client libraries for OpenAI!\n",
    "\n",
    "# Define API URL\n",
    "api_url = f\"https://generativelanguage.googleapis.com/v1beta/models/gemini-pro:generateContent?key={google_api_key}\"\n",
    "\n",
    "# Prepare payload (Gemini API expects a simple prompt format)\n",
    "payload = {\n",
    "    \"contents\": [{\"parts\": [{\"text\": f\"{system_message}\\n\\n{user_prompt}\"}]}]\n",
    "}\n",
    "\n",
    "# Call Gemini API\n",
    "response = requests.post(api_url, json=payload)\n",
    "result = response.json()\n",
    "\n",
    "# Extract and print response\n",
    "if \"candidates\" in result and result[\"candidates\"]:\n",
    "    print(result[\"candidates\"][0][\"content\"][\"parts\"][0][\"text\"])\n",
    "else:\n",
    "    print(\"Error: No valid response received.\")"
   ]
  },
  {
   "cell_type": "code",
   "execution_count": null,
   "metadata": {},
   "outputs": [],
   "source": []
  },
  {
   "cell_type": "code",
   "execution_count": null,
   "metadata": {},
   "outputs": [],
   "source": []
  },
  {
   "cell_type": "code",
   "execution_count": null,
   "metadata": {},
   "outputs": [],
   "source": []
  },
  {
   "cell_type": "code",
   "execution_count": null,
   "metadata": {},
   "outputs": [],
   "source": []
  },
  {
   "cell_type": "code",
   "execution_count": null,
   "metadata": {},
   "outputs": [],
   "source": []
  },
  {
   "cell_type": "code",
   "execution_count": null,
   "metadata": {},
   "outputs": [],
   "source": []
  },
  {
   "cell_type": "code",
   "execution_count": null,
   "metadata": {},
   "outputs": [],
   "source": []
  }
 ],
 "metadata": {
  "kernelspec": {
   "display_name": "Python 3",
   "language": "python",
   "name": "python3"
  },
  "language_info": {
   "codemirror_mode": {
    "name": "ipython",
    "version": 3
   },
   "file_extension": ".py",
   "mimetype": "text/x-python",
   "name": "python",
   "nbconvert_exporter": "python",
   "pygments_lexer": "ipython3",
   "version": "3.11.0"
  }
 },
 "nbformat": 4,
 "nbformat_minor": 2
}
