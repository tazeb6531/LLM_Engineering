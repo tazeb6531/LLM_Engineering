{
 "cells": [
  {
   "cell_type": "markdown",
   "id": "a98030af-fcd1-4d63-a36e-38ba053498fa",
   "metadata": {},
   "source": [
    "## A full business solution ( Generating /Building a Brochure for a Company)\n",
    "\n",
    "#### BUSINESS CHALLENGE:\n",
    "\n",
    "Create a product that builds a Brochure for a company to be used for prospective clients, investors and potential recruits.\n",
    "\n",
    "We will be provided a **company name** and their **primary website**.\n",
    "\n",
    "See the end of this notebook for examples of real-world business applications.\n"
   ]
  },
  {
   "cell_type": "code",
   "execution_count": 1,
   "id": "d5b08506-dc8b-4443-9201-5f1848161363",
   "metadata": {},
   "outputs": [],
   "source": [
    "import os\n",
    "import json\n",
    "import requests\n",
    "from typing import List\n",
    "from openai import OpenAI\n",
    "from bs4 import BeautifulSoup\n",
    "from dotenv import load_dotenv\n",
    "from IPython.display import Markdown, display, update_display"
   ]
  },
  {
   "cell_type": "code",
   "execution_count": 2,
   "id": "fc5d8880-f2ee-4c06-af16-ecbc0262af61",
   "metadata": {},
   "outputs": [
    {
     "name": "stdout",
     "output_type": "stream",
     "text": [
      "API key looks good so far\n"
     ]
    }
   ],
   "source": [
    "load_dotenv(override=True)\n",
    "api_key = os.getenv('OPENAI_API_KEY')\n",
    "if api_key and api_key.startswith('sk-proj-') and len(api_key)>10:\n",
    "    print(\"API key looks good so far\")\n",
    "else:\n",
    "    print(\"There might be a problem with your API key? Please visit the troubleshooting notebook!\")\n",
    "    \n",
    "MODEL = 'gpt-4o-mini'\n",
    "openai = OpenAI()"
   ]
  },
  {
   "cell_type": "code",
   "execution_count": 3,
   "id": "106dd65e-90af-4ca8-86b6-23a41840645b",
   "metadata": {},
   "outputs": [],
   "source": [
    "# A class to represent a Webpage\n",
    "# What this function does:-:\n",
    "# The Website class performs the following tasks:\n",
    "                # Fetches the webpage using requests.\n",
    "                # Parses the HTML with BeautifulSoup.\n",
    "                # Extracts the title, visible text, and links.\n",
    "                # Removes unnecessary elements (script, style, etc.).\n",
    "                # Provides a method to return the extracted content.\n",
    "\n",
    "headers = {\"User-Agent\": \"Mozilla/5.0 (Windows NT 10.0; Win64; x64) AppleWebKit/537.36 (KHTML, like Gecko) Chrome/117.0.0.0 Safari/537.36\"}\n",
    "class Website:\n",
    "    \"\"\"\n",
    "    A utility class to represent a Website that we have scraped, now with links\n",
    "    \"\"\"\n",
    "    def __init__(self, url): # The __init__ method is the constructor,  that initializes an instance of Website with a given url.\n",
    "        self.url = url # Stores the URL of the webpage\n",
    "        response = requests.get(url, headers=headers) # Sends an HTTP GET request to the given url using the specified headers to retrieve the webpage's content.\n",
    "        self.body = response.content # Stores the raw HTML content of the webpage\n",
    "        soup = BeautifulSoup(self.body, 'html.parser') # Parses the HTML using BeautifulSoup with the html.parser to enable easy extraction of data.\n",
    "        self.title = soup.title.string if soup.title else \"No title found\"\n",
    "        if soup.body:\n",
    "            for irrelevant in soup.body([\"script\", \"style\", \"img\", \"input\"]): # soup.body([\"script\", \"style\", \"img\", \"input\"]) finds all <script>, <style>, <img>, and <input> elements.\n",
    "                irrelevant.decompose() # .decompose() permanently removes them from the parsed HTML.\n",
    "            self.text = soup.body.get_text(separator=\"\\n\", strip=True) # Extracts the visible text from the webpage. strip=True removes extra spaces.\n",
    "        else:\n",
    "            self.text = \"\" # Assigns an empty string if there’s no body content\n",
    "        links = [link.get('href') for link in soup.find_all('a')]\n",
    "        self.links = [link for link in links if link] # Finds all hyperlinks (<a> tags) and extracts the href attributes.\n",
    "        \n",
    "    def get_contents(self): # Defines a method to return the webpage title and text.\n",
    "        return f\"Webpage Title:\\n{self.title}\\nWebpage Contents:\\n{self.text}\\n\\n\" #  Formats the extracted data into a readable string.    \n",
    "\n",
    "   "
   ]
  },
  {
   "cell_type": "markdown",
   "id": "fbce3aca",
   "metadata": {},
   "source": [
    "### why we exclude the following elements from the extracted text:\n",
    "\n",
    "     <script> – Contains JavaScript code, which is not part of the visible text on a webpage.\n",
    "\n",
    "     <style> – Contains CSS styles, which define the appearance but do not contribute to the visible content.\n",
    "\n",
    "     <img> – Represents images, which are non-textual elements and cannot be extracted as readable content.\n",
    "\n",
    "     <input> – Represents form fields (text boxes, checkboxes, buttons, etc.), which are interactive but do not contain useful textual information.\n",
    "\n",
    "\n",
    "self.title = soup.title.string if soup.title else \"No title found\" --> equivalent to \n",
    "\n",
    "        if soup.title:\n",
    "            self.title = soup.title.string\n",
    "        else: \n",
    "            self.title = \"No title found\"\n",
    "\n",
    "links = [link.get('href') for link in soup.find_all('a')]  --> equivalent to \n",
    "\n",
    "        links = []\n",
    "        for link in soup.find_all('a'):\n",
    "            href = link.get('href')\n",
    "            if href:\n",
    "                links.append(href)\n",
    "\n",
    "       Practical example: \n",
    "\n",
    "       <html>\n",
    "        <body>\n",
    "            <a href=\"https://example.com/home\">Home</a>\n",
    "            <a href=\"https://example.com/about\">About Us</a>\n",
    "            <a>Contact</a> <!-- No href attribute -->\n",
    "            <a href=\"https://example.com/services\">Services</a>\n",
    "        </body>\n",
    "    </html>\n",
    "\n",
    "        "
   ]
  },
  {
   "cell_type": "code",
   "execution_count": 4,
   "id": "e30d8128-933b-44cc-81c8-ab4c9d86589a",
   "metadata": {},
   "outputs": [
    {
     "name": "stdout",
     "output_type": "stream",
     "text": [
      "['#main', 'https://mydatascienceenthusiast.com/about-us/', 'https://mydatascienceenthusiast.com/blog/', 'https://mydatascienceenthusiast.com/contact/', 'https://mydatascienceenthusiast.com/', 'https://mydatascienceenthusiast.com/', 'https://mydatascienceenthusiast.com/', 'https://mydatascienceenthusiast.com/', 'https://mydatascienceenthusiast.com/about-us/', 'https://mydatascienceenthusiast.com/blog/', 'https://mydatascienceenthusiast.com/contact/', 'https://mydatascienceenthusiast.com/', 'https://mydatascienceenthusiast.com/', 'https://www.linkedin.com/in/tazeb-abera/', 'https://www.facebook.com/addisumng', '#contact-section', 'https://mydatascienceenthusiast.com/wp-content/uploads/2025/01/TazebAbera_Resume.pdf', '#contact-section', '#contact-section', '#contact-section', '#contact-section', '#contact-section', '#contact-section', 'https://creativethemes.com']\n"
     ]
    }
   ],
   "source": [
    "ed = Website(\"https://mydatascienceenthusiast.com/\")\n",
    "print(ed.links)\n",
    "# print(ed.title)\n",
    "# print(ed.text)\n",
    "#print(ed.get_contents())"
   ]
  },
  {
   "cell_type": "markdown",
   "id": "1771af9c-717a-4fca-bbbe-8a95893312c3",
   "metadata": {},
   "source": [
    "## First step: Have GPT-4o-mini figure out which links are relevant\n",
    "\n",
    "### Use a call to gpt-4o-mini to read the links on a webpage, and respond in structured JSON.  \n",
    "It should decide which links are relevant, and replace relative links such as \"/about\" with \"https://company.com/about\".  \n",
    "We will use \"one shot prompting\" in which we provide an example of how it should respond in the prompt.\n",
    "\n",
    "This is an excellent use case for an LLM, because it requires nuanced understanding. Imagine trying to code this without LLMs by parsing and analyzing the webpage - it would be very hard!\n",
    "\n",
    "Sidenote: there is a more advanced technique called \"Structured Outputs\" in which we require the model to respond according to a spec. We cover this technique in Week 8 during our autonomous Agentic AI project."
   ]
  },
  {
   "cell_type": "code",
   "execution_count": 5,
   "id": "6957b079-0d96-45f7-a26a-3487510e9b35",
   "metadata": {},
   "outputs": [],
   "source": [
    "link_system_prompt = \"You are provided with a list of links found on a webpage. \\\n",
    "You are able to decide which of the links would be most relevant to include in a brochure about the company, \\\n",
    "such as links to an About page, or a Company page, or Careers/Jobs pages.\\n\"\n",
    "link_system_prompt += \"You should respond in JSON as in this example:\"\n",
    "link_system_prompt += \"\"\"\n",
    "{\n",
    "    \"links\": [\n",
    "        {\"type\": \"about page\", \"url\": \"https://full.url/goes/here/about\"},\n",
    "        {\"type\": \"careers page\": \"url\": \"https://another.full.url/careers\"}\n",
    "    ]\n",
    "}\n",
    "\"\"\""
   ]
  },
  {
   "cell_type": "code",
   "execution_count": 6,
   "id": "b97e4068-97ed-4120-beae-c42105e4d59a",
   "metadata": {},
   "outputs": [
    {
     "name": "stdout",
     "output_type": "stream",
     "text": [
      "You are provided with a list of links found on a webpage. You are able to decide which of the links would be most relevant to include in a brochure about the company, such as links to an About page, or a Company page, or Careers/Jobs pages.\n",
      "You should respond in JSON as in this example:\n",
      "{\n",
      "    \"links\": [\n",
      "        {\"type\": \"about page\", \"url\": \"https://full.url/goes/here/about\"},\n",
      "        {\"type\": \"careers page\": \"url\": \"https://another.full.url/careers\"}\n",
      "    ]\n",
      "}\n",
      "\n"
     ]
    }
   ],
   "source": [
    "print(link_system_prompt)"
   ]
  },
  {
   "cell_type": "code",
   "execution_count": 7,
   "id": "8e1f601b-2eaf-499d-b6b8-c99050c9d6b3",
   "metadata": {},
   "outputs": [],
   "source": [
    "def get_links_user_prompt(website):\n",
    "    user_prompt = f\"Here is the list of links on the website of {website.url} - \"\n",
    "    user_prompt += \"please decide which of these are relevant web links for a brochure about the company, respond with the full https URL in JSON format. \\\n",
    "        Do not include Terms of Service, Privacy, email links.\\n\"\n",
    "    user_prompt += \"Links (some might be relative links):\\n\"\n",
    "    user_prompt += \"\\n\".join(website.links)\n",
    "    return user_prompt"
   ]
  },
  {
   "cell_type": "code",
   "execution_count": 8,
   "id": "6bcbfa78-6395-4685-b92c-22d592050fd7",
   "metadata": {},
   "outputs": [
    {
     "name": "stdout",
     "output_type": "stream",
     "text": [
      "Here is the list of links on the website of https://mydatascienceenthusiast.com/ - please decide which of these are relevant web links for a brochure about the company, respond with the full https URL in JSON format.         Do not include Terms of Service, Privacy, email links.\n",
      "Links (some might be relative links):\n",
      "#main\n",
      "https://mydatascienceenthusiast.com/about-us/\n",
      "https://mydatascienceenthusiast.com/blog/\n",
      "https://mydatascienceenthusiast.com/contact/\n",
      "https://mydatascienceenthusiast.com/\n",
      "https://mydatascienceenthusiast.com/\n",
      "https://mydatascienceenthusiast.com/\n",
      "https://mydatascienceenthusiast.com/\n",
      "https://mydatascienceenthusiast.com/about-us/\n",
      "https://mydatascienceenthusiast.com/blog/\n",
      "https://mydatascienceenthusiast.com/contact/\n",
      "https://mydatascienceenthusiast.com/\n",
      "https://mydatascienceenthusiast.com/\n",
      "https://www.linkedin.com/in/tazeb-abera/\n",
      "https://www.facebook.com/addisumng\n",
      "#contact-section\n",
      "https://mydatascienceenthusiast.com/wp-content/uploads/2025/01/TazebAbera_Resume.pdf\n",
      "#contact-section\n",
      "#contact-section\n",
      "#contact-section\n",
      "#contact-section\n",
      "#contact-section\n",
      "#contact-section\n",
      "https://creativethemes.com\n"
     ]
    }
   ],
   "source": [
    "print(get_links_user_prompt(ed))"
   ]
  },
  {
   "cell_type": "code",
   "execution_count": 9,
   "id": "a29aca19-ca13-471c-a4b4-5abbfa813f69",
   "metadata": {},
   "outputs": [],
   "source": [
    "def get_links(url):\n",
    "    website = Website(url)\n",
    "    response = openai.chat.completions.create(\n",
    "        model = MODEL,\n",
    "        messages = [\n",
    "            {\"role\": \"system\", \"content\": link_system_prompt},\n",
    "            {\"role\": \"user\", \"content\": get_links_user_prompt(website)}\n",
    "      ],\n",
    "        response_format={\"type\": \"json_object\"}\n",
    "    )\n",
    "    result = response.choices[0].message.content\n",
    "    return json.loads(result)"
   ]
  },
  {
   "cell_type": "code",
   "execution_count": 10,
   "id": "74a827a0-2782-4ae5-b210-4a242a8b4cc2",
   "metadata": {},
   "outputs": [],
   "source": [
    "# Anthropic has made their site harder to scrape, so I'm using HuggingFace..\n",
    "huggingface = Website(\"https://huggingface.co\")\n",
    "# huggingface.links"
   ]
  },
  {
   "cell_type": "code",
   "execution_count": 11,
   "id": "d3d583e2-dcc4-40cc-9b28-1e8dbf402924",
   "metadata": {},
   "outputs": [
    {
     "data": {
      "text/plain": [
       "{'links': [{'type': 'homepage', 'url': 'https://huggingface.co/'},\n",
       "  {'type': 'about page', 'url': 'https://huggingface.co/huggingface'},\n",
       "  {'type': 'enterprise page', 'url': 'https://huggingface.co/enterprise'},\n",
       "  {'type': 'pricing page', 'url': 'https://huggingface.co/pricing'},\n",
       "  {'type': 'careers page', 'url': 'https://apply.workable.com/huggingface/'},\n",
       "  {'type': 'blog page', 'url': 'https://huggingface.co/blog'},\n",
       "  {'type': 'community page', 'url': 'https://discuss.huggingface.co'},\n",
       "  {'type': 'GitHub page', 'url': 'https://github.com/huggingface'},\n",
       "  {'type': 'Twitter page', 'url': 'https://twitter.com/huggingface'},\n",
       "  {'type': 'LinkedIn page',\n",
       "   'url': 'https://www.linkedin.com/company/huggingface/'}]}"
      ]
     },
     "execution_count": 11,
     "metadata": {},
     "output_type": "execute_result"
    }
   ],
   "source": [
    "get_links(\"https://huggingface.co\")"
   ]
  },
  {
   "cell_type": "markdown",
   "id": "0d74128e-dfb6-47ec-9549-288b621c838c",
   "metadata": {},
   "source": [
    "## Second step: make the brochure!\n",
    "\n",
    "Assemble all the details into another prompt to GPT4-o"
   ]
  },
  {
   "cell_type": "code",
   "execution_count": 12,
   "id": "85a5b6e2-e7ef-44a9-bc7f-59ede71037b5",
   "metadata": {},
   "outputs": [],
   "source": [
    "def get_all_details(url):\n",
    "    result = \"Landing page:\\n\"\n",
    "    result += Website(url).get_contents()\n",
    "    links = get_links(url)\n",
    "    print(\"Found links:\", links)\n",
    "    for link in links[\"links\"]:\n",
    "        result += f\"\\n\\n{link['type']}\\n\"\n",
    "        result += Website(link[\"url\"]).get_contents()\n",
    "    return result"
   ]
  },
  {
   "cell_type": "code",
   "execution_count": 13,
   "id": "5099bd14-076d-4745-baf3-dac08d8e5ab2",
   "metadata": {},
   "outputs": [],
   "source": [
    "#print(get_all_details(\"https://huggingface.co\"))"
   ]
  },
  {
   "cell_type": "code",
   "execution_count": 14,
   "id": "9b863a55-f86c-4e3f-8a79-94e24c1a8cf2",
   "metadata": {},
   "outputs": [],
   "source": [
    "system_prompt = \"You are an assistant that analyzes the contents of several relevant pages from a company website \\\n",
    "and creates a short brochure about the company for prospective customers, investors and recruits. Respond in markdown.\\\n",
    "Include details of company culture, customers and careers/jobs if you have the information.\"\n",
    "\n",
    "# Or uncomment the lines below for a more humorous brochure - this demonstrates how easy it is to incorporate 'tone':\n",
    "# system_prompt = \"You are an assistant that analyzes the contents of several relevant pages from a company website \\\n",
    "# and creates a short humorous, entertaining, jokey brochure about the company for prospective customers, investors and recruits. Respond in markdown.\\\n",
    "# Include details of company culture, customers and careers/jobs if you have the information.\"\n"
   ]
  },
  {
   "cell_type": "code",
   "execution_count": 15,
   "id": "6ab83d92-d36b-4ce0-8bcc-5bb4c2f8ff23",
   "metadata": {},
   "outputs": [],
   "source": [
    "def get_brochure_user_prompt(company_name, url):\n",
    "    user_prompt = f\"You are looking at a company called: {company_name}\\n\"\n",
    "    user_prompt += f\"Here are the contents of its landing page and other relevant pages; use this information to build a short brochure of the company in markdown.\\n\"\n",
    "    user_prompt += get_all_details(url)\n",
    "    user_prompt = user_prompt[:5_000] # Truncate if more than 5,000 characters\n",
    "    return user_prompt"
   ]
  },
  {
   "cell_type": "code",
   "execution_count": 16,
   "id": "cd909e0b-1312-4ce2-a553-821e795d7572",
   "metadata": {},
   "outputs": [],
   "source": [
    "#get_brochure_user_prompt(\"Anthropic\", \"https://anthropic.com\")"
   ]
  },
  {
   "cell_type": "code",
   "execution_count": 17,
   "id": "e44de579-4a1a-4e6a-a510-20ea3e4b8d46",
   "metadata": {},
   "outputs": [],
   "source": [
    "def create_brochure(company_name, url):\n",
    "    response = openai.chat.completions.create(\n",
    "        model = MODEL,\n",
    "        messages = [\n",
    "            {\"role\": \"system\", \"content\": system_prompt},\n",
    "            {\"role\": \"user\", \"content\": get_brochure_user_prompt(company_name, url)}\n",
    "          ],\n",
    "    )\n",
    "    result = response.choices[0].message.content\n",
    "    display(Markdown(result))"
   ]
  },
  {
   "cell_type": "code",
   "execution_count": 18,
   "id": "e093444a-9407-42ae-924a-145730591a39",
   "metadata": {},
   "outputs": [
    {
     "name": "stdout",
     "output_type": "stream",
     "text": [
      "Found links: {'links': [{'type': 'company homepage', 'url': 'https://www.eotcdbht.org'}, {'type': 'services page', 'url': 'https://www.eotcdbht.org/አገልግሎቶች-ministries'}, {'type': 'staff page', 'url': 'https://www.eotcdbht.org/አገልጋዮች-staff'}, {'type': 'nearby locations page', 'url': 'https://www.eotcdbht.org/አጥቢያ-አብያተ-ክርስትያናት-near-by-eotc'}, {'type': 'contact page', 'url': 'https://www.eotcdbht.org/ያግኙን-contact'}, {'type': 'membership page', 'url': 'https://www.eotcdbht.org/copy-of-የአባልነት-ቅጽ-membership-1'}, {'type': 'job openings page', 'url': 'https://www.eotcdbht.org/jobopenning'}, {'type': 'book online page', 'url': 'https://www.eotcdbht.org/book-online'}]}\n"
     ]
    },
    {
     "data": {
      "text/markdown": [
       "```markdown\n",
       "# Debre Berehan Holy Trinity Ethiopian Orthodox Tewahedo Church\n",
       "\n",
       "**Location:**  \n",
       "4406 Broadway Blvd, Garland, TX 75043  \n",
       "**Contact:**  \n",
       "Email: office@eotcdbht.com  \n",
       "Phone: 469-688-4084  \n",
       "\n",
       "---\n",
       "\n",
       "## Welcome to Our Church\n",
       "\n",
       "At the Debre Berehan Holy Trinity Ethiopian Orthodox Tewahedo Church, we honor our rich tradition and welcome all who seek to connect with our spiritual community. Located in Garland, Texas, we strive to be a source of light, faith, and fellowship for our congregation.\n",
       "\n",
       "---\n",
       "\n",
       "## Our Ministries\n",
       "\n",
       "Our church offers a variety of ministries that cater to different spiritual needs:\n",
       "\n",
       "- **Sunday School:**  \n",
       "  We provide relevant teachings for children and engage them in learning about the Orthodox faith.  \n",
       "  Contact: Mengistu Zafu  \n",
       "  Email: sundayschool@eotcdbht.org  \n",
       "  Phone: 469-363-6066  \n",
       "\n",
       "- **Baptismal Services:**  \n",
       "  We celebrate the entrance of new believers into our community through baptism.  \n",
       "  Contact: Kesis Henok Tezera  \n",
       "  Email: office@eotcdbht.org  \n",
       "  Phone: 469-432-1879  \n",
       "\n",
       "- **Evangelism:**  \n",
       "  Our evangelism team reaches out to the wider community to share the love of Christ.\n",
       "\n",
       "- **Gift Shop:**  \n",
       "  Open for parishioners to purchase various religious items and books.  \n",
       "  Contact: Senait Hunde  \n",
       "  Email: info@eotcdbht.com  \n",
       "  Phone: 469-487-4338  \n",
       "\n",
       "---\n",
       "\n",
       "## Church Schedule\n",
       "\n",
       "- **Sunday Services:** 4 AM  \n",
       "- **Office Hours:**  \n",
       "  - **Monday - Friday:** 6 AM - 5 PM  \n",
       "  - **Saturday:** 5 AM - 9 AM  \n",
       "  - **Sunday:** 3 AM - 12 PM  \n",
       "\n",
       "---\n",
       "\n",
       "## Company Culture\n",
       "\n",
       "We pride ourselves on a welcoming and inclusive environment that embodies the teachings of Jesus Christ. Our church is not just a place for worship, but a community where friendships are nurtured and faith is deepened through shared experiences and acts of service.\n",
       "\n",
       "---\n",
       "\n",
       "## Join Us\n",
       "\n",
       "Whether you're a prospective member wanting to know more about our faith, an investor interested in supporting our church initiatives, or a recruit looking for a community to grow with, we welcome you to get involved and experience the warmth and hospitality of our congregation.  \n",
       "\n",
       "To learn more about membership or job openings, please visit our [Membership Page](#) or [Job Opportunities](#).\n",
       "\n",
       "---\n",
       "\n",
       "## Support Your Church\n",
       "\n",
       "We appreciate your support and donations, which help sustain our ministries and outreach programs.  \n",
       "[Donate Now](#)\n",
       "\n",
       "---\n",
       "\n",
       "We look forward to welcoming you into our community at the Debre Berehan Holy Trinity Ethiopian Orthodox Tewahedo Church!\n",
       "```\n",
       "This markdown brochure outlines the key aspects of the Debre Berehan Holy Trinity Ethiopian Orthodox Tewahedo Church for potential customers, investors, and recruits."
      ],
      "text/plain": [
       "<IPython.core.display.Markdown object>"
      ]
     },
     "metadata": {},
     "output_type": "display_data"
    }
   ],
   "source": [
    "create_brochure(\"Ethiopian \", \"https://www.eotcdbht.org/\")"
   ]
  },
  {
   "cell_type": "markdown",
   "id": "61eaaab7-0b47-4b29-82d4-75d474ad8d18",
   "metadata": {},
   "source": [
    "## Finally - a minor improvement\n",
    "\n",
    "With a small adjustment, we can change this so that the results stream back from OpenAI,\n",
    "with the familiar typewriter animation"
   ]
  },
  {
   "cell_type": "code",
   "execution_count": 19,
   "id": "51db0e49-f261-4137-aabe-92dd601f7725",
   "metadata": {},
   "outputs": [],
   "source": [
    "def stream_brochure(company_name, url):\n",
    "    stream = openai.chat.completions.create(\n",
    "        model=MODEL,\n",
    "        messages=[\n",
    "            {\"role\": \"system\", \"content\": system_prompt},\n",
    "            {\"role\": \"user\", \"content\": get_brochure_user_prompt(company_name, url)}\n",
    "          ],\n",
    "        stream=True\n",
    "    )\n",
    "    \n",
    "    response = \"\"\n",
    "    display_handle = display(Markdown(\"\"), display_id=True)\n",
    "    for chunk in stream:\n",
    "        response += chunk.choices[0].delta.content or ''\n",
    "        response = response.replace(\"```\",\"\").replace(\"markdown\", \"\")\n",
    "        update_display(Markdown(response), display_id=display_handle.display_id)"
   ]
  },
  {
   "cell_type": "code",
   "execution_count": 20,
   "id": "56bf0ae3-ee9d-4a72-9cd6-edcac67ceb6d",
   "metadata": {},
   "outputs": [],
   "source": [
    "#stream_brochure(\"HuggingFace\", \"https://www.eotcdbht.org/\")"
   ]
  },
  {
   "cell_type": "code",
   "execution_count": 21,
   "id": "fdb3f8d8-a3eb-41c8-b1aa-9f60686a653b",
   "metadata": {},
   "outputs": [
    {
     "name": "stdout",
     "output_type": "stream",
     "text": [
      "Found links: {'links': [{'type': 'about page', 'url': 'https://huggingface.co/huggingface'}, {'type': 'careers page', 'url': 'https://apply.workable.com/huggingface/'}, {'type': 'enterprise page', 'url': 'https://huggingface.co/enterprise'}, {'type': 'pricing page', 'url': 'https://huggingface.co/pricing'}, {'type': 'blog page', 'url': 'https://huggingface.co/blog'}, {'type': 'community page', 'url': 'https://discuss.huggingface.co'}, {'type': 'GitHub page', 'url': 'https://github.com/huggingface'}, {'type': 'Twitter page', 'url': 'https://twitter.com/huggingface'}, {'type': 'LinkedIn page', 'url': 'https://www.linkedin.com/company/huggingface/'}]}\n"
     ]
    },
    {
     "data": {
      "text/markdown": [
       "# Hugging Face Brochure\n",
       "\n",
       "## Welcome to Hugging Face\n",
       "The AI community building the future, Hugging Face is at the forefront of machine learning innovation. Our platform serves as a collaborative space where developers, researchers, and enthusiasts converge to create, share, and utilize cutting-edge models, datasets, and applications.\n",
       "\n",
       "---\n",
       "\n",
       "## What We Offer\n",
       "### Models, Datasets, & Spaces\n",
       "- **Models**: Explore a library of over **400,000** models across various tasks and modalities including text, images, video, and audio.\n",
       "- **Datasets**: Access and share **100,000+** datasets to advance your projects and research.\n",
       "- **Spaces**: Create and host applications seamlessly with our community-focused features.\n",
       "\n",
       "### Advanced Solutions\n",
       "- **Compute**: Take advantage of our optimized inference endpoints or upgrade your applications with GPU support starting at **$0.60/hour**.\n",
       "- **Enterprise Solutions**: Organizations can benefit from enterprise-grade security, priority support, and dedicated resources starting at **$20/user/month**.\n",
       "\n",
       "### Leading Companies\n",
       "Join a robust network of over **50,000 organizations** including Amazon Web Services, Google, Microsoft, Grammarly, and more that leverage Hugging Face for their AI solutions.\n",
       "\n",
       "---\n",
       "\n",
       "## Company Culture\n",
       "At Hugging Face, we foster a vibrant and inclusive culture that prioritizes **collaboration and community**. Our open-source ethos empowers everyone—from novices to experts—to contribute to and benefit from shared knowledge in machine learning.\n",
       "\n",
       "- **Community-Driven**: We believe in the power of collaboration and have built a strong community around our models and datasets.\n",
       "- **Innovation**: Our commitment to pushing the boundaries of AI ensures that we are always at the cutting-edge of technology and research.\n",
       "\n",
       "---\n",
       "\n",
       "## Careers at Hugging Face\n",
       "We are always on the lookout for passionate talent to join our mission in transforming the world with AI. Working at Hugging Face means being part of a **dynamic team** that values creativity, diversity, and growth. \n",
       "\n",
       "### Current Opportunities\n",
       "Explore various roles across:\n",
       "- Software Engineering\n",
       "- Data Science\n",
       "- Product Management\n",
       "- Marketing\n",
       "\n",
       "To learn more and apply, visit our [Careers Page](https://huggingface.co/jobs).\n",
       "\n",
       "---\n",
       "\n",
       "## Join Us\n",
       "Discover how Hugging Face is reshaping the future of AI by visiting our [website](https://huggingface.co). Together, we can build remarkable solutions that drive progress and innovation for everyone.\n",
       "\n",
       "---\n",
       "\n",
       "**Follow Us**\n",
       "Connect with us on social platforms to stay updated with our latest news, models, and community events.\n",
       "- [GitHub](https://github.com/huggingface)\n",
       "- [Twitter](https://twitter.com/huggingface)\n",
       "- [LinkedIn](https://www.linkedin.com/company/hugging-face)\n",
       "- [Discord](https://discord.gg/huggingface)\n",
       "\n",
       "--- \n",
       "\n",
       "### Hugging Face - The AI Community Building the Future."
      ],
      "text/plain": [
       "<IPython.core.display.Markdown object>"
      ]
     },
     "metadata": {},
     "output_type": "display_data"
    }
   ],
   "source": [
    "# Try changing the system prompt to the humorous version when you make the Brochure for Hugging Face:\n",
    "\n",
    "stream_brochure(\"HuggingFace\", \"https://huggingface.co\")"
   ]
  },
  {
   "cell_type": "code",
   "execution_count": null,
   "id": "b8d3e1a1-ba54-4907-97c5-30f89a24775b",
   "metadata": {},
   "outputs": [],
   "source": []
  }
 ],
 "metadata": {
  "kernelspec": {
   "display_name": "genai",
   "language": "python",
   "name": "python3"
  },
  "language_info": {
   "codemirror_mode": {
    "name": "ipython",
    "version": 3
   },
   "file_extension": ".py",
   "mimetype": "text/x-python",
   "name": "python",
   "nbconvert_exporter": "python",
   "pygments_lexer": "ipython3",
   "version": "3.11.9"
  }
 },
 "nbformat": 4,
 "nbformat_minor": 5
}
